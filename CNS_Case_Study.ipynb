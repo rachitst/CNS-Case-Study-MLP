{
  "nbformat": 4,
  "nbformat_minor": 0,
  "metadata": {
    "colab": {
      "provenance": [],
      "gpuType": "T4"
    },
    "kernelspec": {
      "name": "python3",
      "display_name": "Python 3"
    },
    "language_info": {
      "name": "python"
    },
    "accelerator": "GPU"
  },
  "cells": [
    {
      "cell_type": "code",
      "execution_count": 15,
      "metadata": {
        "id": "Ln0XSllLyllt"
      },
      "outputs": [],
      "source": [
        "!pip install -q kagglehub pandas scikit-learn tensorflow matplotlib seaborn joblib"
      ]
    },
    {
      "cell_type": "code",
      "source": [
        "import kagglehub\n",
        "path = kagglehub.dataset_download(\"jsrojas/labeled-network-traffic-flows-114-applications\")\n",
        "print(\"Dataset Path:\", path)"
      ],
      "metadata": {
        "colab": {
          "base_uri": "https://localhost:8080/"
        },
        "id": "ke3R4Pv0zU3F",
        "outputId": "5b77ebb0-3de4-43e5-ac31-fe7aa5777dfa"
      },
      "execution_count": 16,
      "outputs": [
        {
          "output_type": "stream",
          "name": "stdout",
          "text": [
            "Using Colab cache for faster access to the 'labeled-network-traffic-flows-114-applications' dataset.\n",
            "Dataset Path: /kaggle/input/labeled-network-traffic-flows-114-applications\n"
          ]
        }
      ]
    },
    {
      "cell_type": "code",
      "source": [
        "import os\n",
        "path = \"/root/.cache/kagglehub/datasets/jsrojas/labeled-network-traffic-flows-114-applications/versions/1\"\n",
        "print(os.listdir(path))"
      ],
      "metadata": {
        "colab": {
          "base_uri": "https://localhost:8080/"
        },
        "id": "AHX1VJ940YOS",
        "outputId": "4fe6b25d-0255-4c1a-a9db-7af27078ed7e"
      },
      "execution_count": 17,
      "outputs": [
        {
          "output_type": "stream",
          "name": "stdout",
          "text": [
            "['Unicauca-dataset-April-June-2019-Network-flows.csv']\n"
          ]
        }
      ]
    },
    {
      "cell_type": "code",
      "source": [
        "import pandas as pd\n",
        "\n",
        "csv_path = path + \"/Unicauca-dataset-April-June-2019-Network-flows.csv\"\n",
        "df = pd.read_csv(csv_path)\n",
        "\n",
        "print(\"Shape:\", df.shape)\n",
        "print(df.columns.tolist())\n",
        "print(df['category'].value_counts().head(30))\n",
        "df.head(3)\n"
      ],
      "metadata": {
        "colab": {
          "base_uri": "https://localhost:8080/",
          "height": 678
        },
        "id": "hQZQPYad0ioX",
        "outputId": "bc3dd8b8-4df2-4054-c048-f910a94e7e14"
      },
      "execution_count": 18,
      "outputs": [
        {
          "output_type": "stream",
          "name": "stdout",
          "text": [
            "Shape: (2704839, 50)\n",
            "['flow_key', 'src_ip_numeric', 'src_ip', 'src_port', 'dst_ip', 'dst_port', 'proto', 'pktTotalCount', 'octetTotalCount', 'min_ps', 'max_ps', 'avg_ps', 'std_dev_ps', 'flowStart', 'flowEnd', 'flowDuration', 'min_piat', 'max_piat', 'avg_piat', 'std_dev_piat', 'f_pktTotalCount', 'f_octetTotalCount', 'f_min_ps', 'f_max_ps', 'f_avg_ps', 'f_std_dev_ps', 'f_flowStart', 'f_flowEnd', 'f_flowDuration', 'f_min_piat', 'f_max_piat', 'f_avg_piat', 'f_std_dev_piat', 'b_pktTotalCount', 'b_octetTotalCount', 'b_min_ps', 'b_max_ps', 'b_avg_ps', 'b_std_dev_ps', 'b_flowStart', 'b_flowEnd', 'b_flowDuration', 'b_min_piat', 'b_max_piat', 'b_avg_piat', 'b_std_dev_piat', 'flowEndReason', 'category', 'application_protocol', 'web_service']\n",
            "category\n",
            "Web                                  1416159\n",
            "Network                               443446\n",
            "Unspecified                           249071\n",
            "SocialNetwork                         150941\n",
            "Chat                                   75532\n",
            "Download-FileTransfer-FileSharing      70830\n",
            "Media                                  63901\n",
            "Cloud                                  50465\n",
            "VoIP                                   47010\n",
            "Collaborative                          39037\n",
            "System                                 36951\n",
            "Email                                  22708\n",
            "SoftwareUpdate                         16500\n",
            "Video                                   7844\n",
            "Music                                   3545\n",
            "RemoteAccess                            3351\n",
            "Game                                    2856\n",
            "RPC                                     2205\n",
            "Database                                 812\n",
            "Streaming                                714\n",
            "VPN                                      536\n",
            "Shopping                                 237\n",
            "Mining                                   180\n",
            "DataTransfer                               8\n",
            "Name: count, dtype: int64\n"
          ]
        },
        {
          "output_type": "execute_result",
          "data": {
            "text/plain": [
              "                           flow_key  src_ip_numeric         src_ip  src_port  \\\n",
              "0  3acee4f4ea001cd5e6d9584d4036b53d      3232266497  192.168.121.1        67   \n",
              "1  974ec5991b439c9a7176b88be0c90df0      3232266497  192.168.121.1        67   \n",
              "2  3acee4f4ea001cd5e6d9584d4036b53d      3232266497  192.168.121.1        67   \n",
              "\n",
              "           dst_ip  dst_port  proto  pktTotalCount  octetTotalCount  min_ps  \\\n",
              "0  172.16.255.185        67     17             22             7620     328   \n",
              "1  172.16.255.186        67     17             17             5670     328   \n",
              "2  172.16.255.185        67     17             43            15124     328   \n",
              "\n",
              "   ...     b_flowEnd  b_flowDuration  b_min_piat  b_max_piat  b_avg_piat  \\\n",
              "0  ...  1.555955e+09    1.554399e+12    0.010354  198.657965   51.689181   \n",
              "1  ...  0.000000e+00    0.000000e+00    0.000000    0.000000    0.000000   \n",
              "2  ...  1.555965e+09    1.554409e+12    0.022332  340.268454   89.927588   \n",
              "\n",
              "   b_std_dev_piat  flowEndReason  category  application_protocol  web_service  \n",
              "0       84.916348              2   Network               Unknown         DHCP  \n",
              "1        0.000000              2   Network               Unknown         DHCP  \n",
              "2      124.270745              2   Network               Unknown         DHCP  \n",
              "\n",
              "[3 rows x 50 columns]"
            ],
            "text/html": [
              "\n",
              "  <div id=\"df-d19589cb-3756-4abc-9a74-fb38d1752048\" class=\"colab-df-container\">\n",
              "    <div>\n",
              "<style scoped>\n",
              "    .dataframe tbody tr th:only-of-type {\n",
              "        vertical-align: middle;\n",
              "    }\n",
              "\n",
              "    .dataframe tbody tr th {\n",
              "        vertical-align: top;\n",
              "    }\n",
              "\n",
              "    .dataframe thead th {\n",
              "        text-align: right;\n",
              "    }\n",
              "</style>\n",
              "<table border=\"1\" class=\"dataframe\">\n",
              "  <thead>\n",
              "    <tr style=\"text-align: right;\">\n",
              "      <th></th>\n",
              "      <th>flow_key</th>\n",
              "      <th>src_ip_numeric</th>\n",
              "      <th>src_ip</th>\n",
              "      <th>src_port</th>\n",
              "      <th>dst_ip</th>\n",
              "      <th>dst_port</th>\n",
              "      <th>proto</th>\n",
              "      <th>pktTotalCount</th>\n",
              "      <th>octetTotalCount</th>\n",
              "      <th>min_ps</th>\n",
              "      <th>...</th>\n",
              "      <th>b_flowEnd</th>\n",
              "      <th>b_flowDuration</th>\n",
              "      <th>b_min_piat</th>\n",
              "      <th>b_max_piat</th>\n",
              "      <th>b_avg_piat</th>\n",
              "      <th>b_std_dev_piat</th>\n",
              "      <th>flowEndReason</th>\n",
              "      <th>category</th>\n",
              "      <th>application_protocol</th>\n",
              "      <th>web_service</th>\n",
              "    </tr>\n",
              "  </thead>\n",
              "  <tbody>\n",
              "    <tr>\n",
              "      <th>0</th>\n",
              "      <td>3acee4f4ea001cd5e6d9584d4036b53d</td>\n",
              "      <td>3232266497</td>\n",
              "      <td>192.168.121.1</td>\n",
              "      <td>67</td>\n",
              "      <td>172.16.255.185</td>\n",
              "      <td>67</td>\n",
              "      <td>17</td>\n",
              "      <td>22</td>\n",
              "      <td>7620</td>\n",
              "      <td>328</td>\n",
              "      <td>...</td>\n",
              "      <td>1.555955e+09</td>\n",
              "      <td>1.554399e+12</td>\n",
              "      <td>0.010354</td>\n",
              "      <td>198.657965</td>\n",
              "      <td>51.689181</td>\n",
              "      <td>84.916348</td>\n",
              "      <td>2</td>\n",
              "      <td>Network</td>\n",
              "      <td>Unknown</td>\n",
              "      <td>DHCP</td>\n",
              "    </tr>\n",
              "    <tr>\n",
              "      <th>1</th>\n",
              "      <td>974ec5991b439c9a7176b88be0c90df0</td>\n",
              "      <td>3232266497</td>\n",
              "      <td>192.168.121.1</td>\n",
              "      <td>67</td>\n",
              "      <td>172.16.255.186</td>\n",
              "      <td>67</td>\n",
              "      <td>17</td>\n",
              "      <td>17</td>\n",
              "      <td>5670</td>\n",
              "      <td>328</td>\n",
              "      <td>...</td>\n",
              "      <td>0.000000e+00</td>\n",
              "      <td>0.000000e+00</td>\n",
              "      <td>0.000000</td>\n",
              "      <td>0.000000</td>\n",
              "      <td>0.000000</td>\n",
              "      <td>0.000000</td>\n",
              "      <td>2</td>\n",
              "      <td>Network</td>\n",
              "      <td>Unknown</td>\n",
              "      <td>DHCP</td>\n",
              "    </tr>\n",
              "    <tr>\n",
              "      <th>2</th>\n",
              "      <td>3acee4f4ea001cd5e6d9584d4036b53d</td>\n",
              "      <td>3232266497</td>\n",
              "      <td>192.168.121.1</td>\n",
              "      <td>67</td>\n",
              "      <td>172.16.255.185</td>\n",
              "      <td>67</td>\n",
              "      <td>17</td>\n",
              "      <td>43</td>\n",
              "      <td>15124</td>\n",
              "      <td>328</td>\n",
              "      <td>...</td>\n",
              "      <td>1.555965e+09</td>\n",
              "      <td>1.554409e+12</td>\n",
              "      <td>0.022332</td>\n",
              "      <td>340.268454</td>\n",
              "      <td>89.927588</td>\n",
              "      <td>124.270745</td>\n",
              "      <td>2</td>\n",
              "      <td>Network</td>\n",
              "      <td>Unknown</td>\n",
              "      <td>DHCP</td>\n",
              "    </tr>\n",
              "  </tbody>\n",
              "</table>\n",
              "<p>3 rows × 50 columns</p>\n",
              "</div>\n",
              "    <div class=\"colab-df-buttons\">\n",
              "\n",
              "  <div class=\"colab-df-container\">\n",
              "    <button class=\"colab-df-convert\" onclick=\"convertToInteractive('df-d19589cb-3756-4abc-9a74-fb38d1752048')\"\n",
              "            title=\"Convert this dataframe to an interactive table.\"\n",
              "            style=\"display:none;\">\n",
              "\n",
              "  <svg xmlns=\"http://www.w3.org/2000/svg\" height=\"24px\" viewBox=\"0 -960 960 960\">\n",
              "    <path d=\"M120-120v-720h720v720H120Zm60-500h600v-160H180v160Zm220 220h160v-160H400v160Zm0 220h160v-160H400v160ZM180-400h160v-160H180v160Zm440 0h160v-160H620v160ZM180-180h160v-160H180v160Zm440 0h160v-160H620v160Z\"/>\n",
              "  </svg>\n",
              "    </button>\n",
              "\n",
              "  <style>\n",
              "    .colab-df-container {\n",
              "      display:flex;\n",
              "      gap: 12px;\n",
              "    }\n",
              "\n",
              "    .colab-df-convert {\n",
              "      background-color: #E8F0FE;\n",
              "      border: none;\n",
              "      border-radius: 50%;\n",
              "      cursor: pointer;\n",
              "      display: none;\n",
              "      fill: #1967D2;\n",
              "      height: 32px;\n",
              "      padding: 0 0 0 0;\n",
              "      width: 32px;\n",
              "    }\n",
              "\n",
              "    .colab-df-convert:hover {\n",
              "      background-color: #E2EBFA;\n",
              "      box-shadow: 0px 1px 2px rgba(60, 64, 67, 0.3), 0px 1px 3px 1px rgba(60, 64, 67, 0.15);\n",
              "      fill: #174EA6;\n",
              "    }\n",
              "\n",
              "    .colab-df-buttons div {\n",
              "      margin-bottom: 4px;\n",
              "    }\n",
              "\n",
              "    [theme=dark] .colab-df-convert {\n",
              "      background-color: #3B4455;\n",
              "      fill: #D2E3FC;\n",
              "    }\n",
              "\n",
              "    [theme=dark] .colab-df-convert:hover {\n",
              "      background-color: #434B5C;\n",
              "      box-shadow: 0px 1px 3px 1px rgba(0, 0, 0, 0.15);\n",
              "      filter: drop-shadow(0px 1px 2px rgba(0, 0, 0, 0.3));\n",
              "      fill: #FFFFFF;\n",
              "    }\n",
              "  </style>\n",
              "\n",
              "    <script>\n",
              "      const buttonEl =\n",
              "        document.querySelector('#df-d19589cb-3756-4abc-9a74-fb38d1752048 button.colab-df-convert');\n",
              "      buttonEl.style.display =\n",
              "        google.colab.kernel.accessAllowed ? 'block' : 'none';\n",
              "\n",
              "      async function convertToInteractive(key) {\n",
              "        const element = document.querySelector('#df-d19589cb-3756-4abc-9a74-fb38d1752048');\n",
              "        const dataTable =\n",
              "          await google.colab.kernel.invokeFunction('convertToInteractive',\n",
              "                                                    [key], {});\n",
              "        if (!dataTable) return;\n",
              "\n",
              "        const docLinkHtml = 'Like what you see? Visit the ' +\n",
              "          '<a target=\"_blank\" href=https://colab.research.google.com/notebooks/data_table.ipynb>data table notebook</a>'\n",
              "          + ' to learn more about interactive tables.';\n",
              "        element.innerHTML = '';\n",
              "        dataTable['output_type'] = 'display_data';\n",
              "        await google.colab.output.renderOutput(dataTable, element);\n",
              "        const docLink = document.createElement('div');\n",
              "        docLink.innerHTML = docLinkHtml;\n",
              "        element.appendChild(docLink);\n",
              "      }\n",
              "    </script>\n",
              "  </div>\n",
              "\n",
              "\n",
              "    <div id=\"df-53f99694-f214-43e4-bd5e-195d60fa30ba\">\n",
              "      <button class=\"colab-df-quickchart\" onclick=\"quickchart('df-53f99694-f214-43e4-bd5e-195d60fa30ba')\"\n",
              "                title=\"Suggest charts\"\n",
              "                style=\"display:none;\">\n",
              "\n",
              "<svg xmlns=\"http://www.w3.org/2000/svg\" height=\"24px\"viewBox=\"0 0 24 24\"\n",
              "     width=\"24px\">\n",
              "    <g>\n",
              "        <path d=\"M19 3H5c-1.1 0-2 .9-2 2v14c0 1.1.9 2 2 2h14c1.1 0 2-.9 2-2V5c0-1.1-.9-2-2-2zM9 17H7v-7h2v7zm4 0h-2V7h2v10zm4 0h-2v-4h2v4z\"/>\n",
              "    </g>\n",
              "</svg>\n",
              "      </button>\n",
              "\n",
              "<style>\n",
              "  .colab-df-quickchart {\n",
              "      --bg-color: #E8F0FE;\n",
              "      --fill-color: #1967D2;\n",
              "      --hover-bg-color: #E2EBFA;\n",
              "      --hover-fill-color: #174EA6;\n",
              "      --disabled-fill-color: #AAA;\n",
              "      --disabled-bg-color: #DDD;\n",
              "  }\n",
              "\n",
              "  [theme=dark] .colab-df-quickchart {\n",
              "      --bg-color: #3B4455;\n",
              "      --fill-color: #D2E3FC;\n",
              "      --hover-bg-color: #434B5C;\n",
              "      --hover-fill-color: #FFFFFF;\n",
              "      --disabled-bg-color: #3B4455;\n",
              "      --disabled-fill-color: #666;\n",
              "  }\n",
              "\n",
              "  .colab-df-quickchart {\n",
              "    background-color: var(--bg-color);\n",
              "    border: none;\n",
              "    border-radius: 50%;\n",
              "    cursor: pointer;\n",
              "    display: none;\n",
              "    fill: var(--fill-color);\n",
              "    height: 32px;\n",
              "    padding: 0;\n",
              "    width: 32px;\n",
              "  }\n",
              "\n",
              "  .colab-df-quickchart:hover {\n",
              "    background-color: var(--hover-bg-color);\n",
              "    box-shadow: 0 1px 2px rgba(60, 64, 67, 0.3), 0 1px 3px 1px rgba(60, 64, 67, 0.15);\n",
              "    fill: var(--button-hover-fill-color);\n",
              "  }\n",
              "\n",
              "  .colab-df-quickchart-complete:disabled,\n",
              "  .colab-df-quickchart-complete:disabled:hover {\n",
              "    background-color: var(--disabled-bg-color);\n",
              "    fill: var(--disabled-fill-color);\n",
              "    box-shadow: none;\n",
              "  }\n",
              "\n",
              "  .colab-df-spinner {\n",
              "    border: 2px solid var(--fill-color);\n",
              "    border-color: transparent;\n",
              "    border-bottom-color: var(--fill-color);\n",
              "    animation:\n",
              "      spin 1s steps(1) infinite;\n",
              "  }\n",
              "\n",
              "  @keyframes spin {\n",
              "    0% {\n",
              "      border-color: transparent;\n",
              "      border-bottom-color: var(--fill-color);\n",
              "      border-left-color: var(--fill-color);\n",
              "    }\n",
              "    20% {\n",
              "      border-color: transparent;\n",
              "      border-left-color: var(--fill-color);\n",
              "      border-top-color: var(--fill-color);\n",
              "    }\n",
              "    30% {\n",
              "      border-color: transparent;\n",
              "      border-left-color: var(--fill-color);\n",
              "      border-top-color: var(--fill-color);\n",
              "      border-right-color: var(--fill-color);\n",
              "    }\n",
              "    40% {\n",
              "      border-color: transparent;\n",
              "      border-right-color: var(--fill-color);\n",
              "      border-top-color: var(--fill-color);\n",
              "    }\n",
              "    60% {\n",
              "      border-color: transparent;\n",
              "      border-right-color: var(--fill-color);\n",
              "    }\n",
              "    80% {\n",
              "      border-color: transparent;\n",
              "      border-right-color: var(--fill-color);\n",
              "      border-bottom-color: var(--fill-color);\n",
              "    }\n",
              "    90% {\n",
              "      border-color: transparent;\n",
              "      border-bottom-color: var(--fill-color);\n",
              "    }\n",
              "  }\n",
              "</style>\n",
              "\n",
              "      <script>\n",
              "        async function quickchart(key) {\n",
              "          const quickchartButtonEl =\n",
              "            document.querySelector('#' + key + ' button');\n",
              "          quickchartButtonEl.disabled = true;  // To prevent multiple clicks.\n",
              "          quickchartButtonEl.classList.add('colab-df-spinner');\n",
              "          try {\n",
              "            const charts = await google.colab.kernel.invokeFunction(\n",
              "                'suggestCharts', [key], {});\n",
              "          } catch (error) {\n",
              "            console.error('Error during call to suggestCharts:', error);\n",
              "          }\n",
              "          quickchartButtonEl.classList.remove('colab-df-spinner');\n",
              "          quickchartButtonEl.classList.add('colab-df-quickchart-complete');\n",
              "        }\n",
              "        (() => {\n",
              "          let quickchartButtonEl =\n",
              "            document.querySelector('#df-53f99694-f214-43e4-bd5e-195d60fa30ba button');\n",
              "          quickchartButtonEl.style.display =\n",
              "            google.colab.kernel.accessAllowed ? 'block' : 'none';\n",
              "        })();\n",
              "      </script>\n",
              "    </div>\n",
              "\n",
              "    </div>\n",
              "  </div>\n"
            ],
            "application/vnd.google.colaboratory.intrinsic+json": {
              "type": "dataframe",
              "variable_name": "df"
            }
          },
          "metadata": {},
          "execution_count": 18
        }
      ]
    },
    {
      "cell_type": "code",
      "source": [
        "import numpy as np\n",
        "\n",
        "# Drop non-numeric / identifiers\n",
        "drop_cols = ['flow_key', 'src_ip', 'dst_ip', 'application_protocol', 'web_service']\n",
        "df_num = df.drop(columns=[c for c in drop_cols if c in df.columns])\n",
        "\n",
        "# Replace NaNs and infinities\n",
        "df_num = df_num.replace([np.inf, -np.inf], np.nan)\n",
        "df_num = df_num.fillna(0)\n",
        "\n",
        "# Convert any numeric strings to numbers\n",
        "for c in df_num.columns:\n",
        "    if df_num[c].dtype == 'object' and c != 'category':\n",
        "        try:\n",
        "            df_num[c] = pd.to_numeric(df_num[c])\n",
        "        except:\n",
        "            pass\n",
        "\n",
        "print(\"After cleaning:\", df_num.shape)\n",
        "print(\"NaNs remaining:\", df_num.isna().sum().sum())\n"
      ],
      "metadata": {
        "colab": {
          "base_uri": "https://localhost:8080/"
        },
        "id": "FNWQMHj9-2fl",
        "outputId": "ee173a90-ef12-460a-b274-a19804fa820a"
      },
      "execution_count": 19,
      "outputs": [
        {
          "output_type": "stream",
          "name": "stdout",
          "text": [
            "After cleaning: (2704839, 45)\n",
            "NaNs remaining: 0\n"
          ]
        }
      ]
    },
    {
      "cell_type": "code",
      "source": [
        "from sklearn.preprocessing import LabelEncoder\n",
        "\n",
        "print(\"Unique categories:\", df_num['category'].unique())\n",
        "le = LabelEncoder()\n",
        "df_num['category_encoded'] = le.fit_transform(df_num['category'])\n",
        "num_classes = len(le.classes_)\n",
        "print(\"Number of classes:\", num_classes)\n",
        "print(\"Classes:\", le.classes_)\n"
      ],
      "metadata": {
        "colab": {
          "base_uri": "https://localhost:8080/"
        },
        "id": "C9qz_xyO04qv",
        "outputId": "8c47333e-3812-41b7-e0cb-6a147f297ad9"
      },
      "execution_count": 20,
      "outputs": [
        {
          "output_type": "stream",
          "name": "stdout",
          "text": [
            "Unique categories: ['Network' 'Web' 'SoftwareUpdate' 'Unspecified' 'RPC' 'System' 'Cloud'\n",
            " 'Email' 'Media' 'Streaming' 'VoIP' 'Collaborative' 'Music'\n",
            " 'SocialNetwork' 'Video' 'Download-FileTransfer-FileSharing' 'Chat' 'VPN'\n",
            " 'RemoteAccess' 'Game' 'Database' 'Mining' 'Shopping' 'DataTransfer']\n",
            "Number of classes: 24\n",
            "Classes: ['Chat' 'Cloud' 'Collaborative' 'DataTransfer' 'Database'\n",
            " 'Download-FileTransfer-FileSharing' 'Email' 'Game' 'Media' 'Mining'\n",
            " 'Music' 'Network' 'RPC' 'RemoteAccess' 'Shopping' 'SocialNetwork'\n",
            " 'SoftwareUpdate' 'Streaming' 'System' 'Unspecified' 'VPN' 'Video' 'VoIP'\n",
            " 'Web']\n"
          ]
        }
      ]
    },
    {
      "cell_type": "code",
      "source": [
        "sample_per_class = 3000\n",
        "sampled = []\n",
        "for cls in df_num['category_encoded'].unique():\n",
        "    cls_df = df_num[df_num['category_encoded'] == cls]\n",
        "    sampled.append(cls_df.sample(n=min(len(cls_df), sample_per_class), random_state=42))\n",
        "df_work = pd.concat(sampled).sample(frac=1, random_state=42).reset_index(drop=True)\n",
        "\n",
        "print(\"Sampled dataset shape:\", df_work.shape)\n"
      ],
      "metadata": {
        "colab": {
          "base_uri": "https://localhost:8080/"
        },
        "id": "fujq1Lgv2Xef",
        "outputId": "3ffbaca1-8da6-43c2-f19c-185bef97da7c"
      },
      "execution_count": 21,
      "outputs": [
        {
          "output_type": "stream",
          "name": "stdout",
          "text": [
            "Sampled dataset shape: (55548, 46)\n"
          ]
        }
      ]
    },
    {
      "cell_type": "code",
      "source": [
        "from sklearn.model_selection import train_test_split\n",
        "from sklearn.preprocessing import StandardScaler\n",
        "\n",
        "X = df_work.drop(columns=['category', 'category_encoded'])\n",
        "y = df_work['category_encoded']\n",
        "\n",
        "# Drop non-numeric columns if any\n",
        "non_numeric = X.select_dtypes(include=['object']).columns.tolist()\n",
        "if len(non_numeric) > 0:\n",
        "    print(\"Dropping non-numeric:\", non_numeric)\n",
        "    X = X.drop(columns=non_numeric)\n",
        "\n",
        "scaler = StandardScaler()\n",
        "X_scaled = scaler.fit_transform(X)\n",
        "\n",
        "X_train, X_test, y_train, y_test = train_test_split(\n",
        "    X_scaled, y, test_size=0.2, stratify=y, random_state=42\n",
        ")\n",
        "\n",
        "print(\"Train shape:\", X_train.shape, \"Test shape:\", X_test.shape)\n"
      ],
      "metadata": {
        "colab": {
          "base_uri": "https://localhost:8080/"
        },
        "id": "e4vGoeN15w67",
        "outputId": "d9893222-f362-457f-8a4b-2d344abdad28"
      },
      "execution_count": 22,
      "outputs": [
        {
          "output_type": "stream",
          "name": "stdout",
          "text": [
            "Train shape: (44438, 44) Test shape: (11110, 44)\n"
          ]
        }
      ]
    },
    {
      "cell_type": "code",
      "source": [
        "from sklearn.utils.class_weight import compute_class_weight\n",
        "\n",
        "class_weights = compute_class_weight('balanced', classes=np.unique(y_train), y=y_train)\n",
        "class_weights = dict(enumerate(class_weights))\n",
        "print(\"Sample class weights:\", list(class_weights.items())[:10])\n"
      ],
      "metadata": {
        "colab": {
          "base_uri": "https://localhost:8080/"
        },
        "id": "-6_ud3S_CbF_",
        "outputId": "5fe2ce91-3bbd-4376-8d6d-98098274a5d0"
      },
      "execution_count": 23,
      "outputs": [
        {
          "output_type": "stream",
          "name": "stdout",
          "text": [
            "Sample class weights: [(0, np.float64(0.7714930555555556)), (1, np.float64(0.7714930555555556)), (2, np.float64(0.7714930555555556)), (3, np.float64(308.59722222222223)), (4, np.float64(2.8529789419619926)), (5, np.float64(0.7714930555555556)), (6, np.float64(0.7714930555555556)), (7, np.float64(0.8103209336250912)), (8, np.float64(0.7714930555555556)), (9, np.float64(12.858217592592593))]\n"
          ]
        }
      ]
    },
    {
      "cell_type": "code",
      "source": [
        "import tensorflow as tf\n",
        "from tensorflow.keras.models import Sequential\n",
        "from tensorflow.keras.layers import Input, Dense, Dropout, BatchNormalization\n",
        "from tensorflow.keras.optimizers import Adam\n",
        "\n",
        "tf.random.set_seed(42)\n",
        "\n",
        "model = Sequential([\n",
        "    Input(shape=(X_train.shape[1],)),\n",
        "\n",
        "    Dense(512, activation='relu'),\n",
        "    BatchNormalization(),\n",
        "    Dropout(0.3),\n",
        "\n",
        "    Dense(256, activation='relu'),\n",
        "    BatchNormalization(),\n",
        "    Dropout(0.25),\n",
        "\n",
        "    Dense(128, activation='relu'),\n",
        "    BatchNormalization(),\n",
        "    Dropout(0.2),\n",
        "\n",
        "    Dense(num_classes, activation='softmax')\n",
        "])\n",
        "\n",
        "model.compile(\n",
        "    optimizer=Adam(learning_rate=3e-4),  # slightly higher LR\n",
        "    loss='sparse_categorical_crossentropy',\n",
        "    metrics=['accuracy']\n",
        ")\n",
        "\n",
        "model.summary()\n"
      ],
      "metadata": {
        "colab": {
          "base_uri": "https://localhost:8080/",
          "height": 497
        },
        "id": "7P7Gghno_f5o",
        "outputId": "076a624f-2ece-490d-82f3-c5cf5f995967"
      },
      "execution_count": 29,
      "outputs": [
        {
          "output_type": "display_data",
          "data": {
            "text/plain": [
              "\u001b[1mModel: \"sequential_2\"\u001b[0m\n"
            ],
            "text/html": [
              "<pre style=\"white-space:pre;overflow-x:auto;line-height:normal;font-family:Menlo,'DejaVu Sans Mono',consolas,'Courier New',monospace\"><span style=\"font-weight: bold\">Model: \"sequential_2\"</span>\n",
              "</pre>\n"
            ]
          },
          "metadata": {}
        },
        {
          "output_type": "display_data",
          "data": {
            "text/plain": [
              "┏━━━━━━━━━━━━━━━━━━━━━━━━━━━━━━━━━┳━━━━━━━━━━━━━━━━━━━━━━━━┳━━━━━━━━━━━━━━━┓\n",
              "┃\u001b[1m \u001b[0m\u001b[1mLayer (type)                   \u001b[0m\u001b[1m \u001b[0m┃\u001b[1m \u001b[0m\u001b[1mOutput Shape          \u001b[0m\u001b[1m \u001b[0m┃\u001b[1m \u001b[0m\u001b[1m      Param #\u001b[0m\u001b[1m \u001b[0m┃\n",
              "┡━━━━━━━━━━━━━━━━━━━━━━━━━━━━━━━━━╇━━━━━━━━━━━━━━━━━━━━━━━━╇━━━━━━━━━━━━━━━┩\n",
              "│ dense_8 (\u001b[38;5;33mDense\u001b[0m)                 │ (\u001b[38;5;45mNone\u001b[0m, \u001b[38;5;34m512\u001b[0m)            │        \u001b[38;5;34m23,040\u001b[0m │\n",
              "├─────────────────────────────────┼────────────────────────┼───────────────┤\n",
              "│ batch_normalization             │ (\u001b[38;5;45mNone\u001b[0m, \u001b[38;5;34m512\u001b[0m)            │         \u001b[38;5;34m2,048\u001b[0m │\n",
              "│ (\u001b[38;5;33mBatchNormalization\u001b[0m)            │                        │               │\n",
              "├─────────────────────────────────┼────────────────────────┼───────────────┤\n",
              "│ dropout_4 (\u001b[38;5;33mDropout\u001b[0m)             │ (\u001b[38;5;45mNone\u001b[0m, \u001b[38;5;34m512\u001b[0m)            │             \u001b[38;5;34m0\u001b[0m │\n",
              "├─────────────────────────────────┼────────────────────────┼───────────────┤\n",
              "│ dense_9 (\u001b[38;5;33mDense\u001b[0m)                 │ (\u001b[38;5;45mNone\u001b[0m, \u001b[38;5;34m256\u001b[0m)            │       \u001b[38;5;34m131,328\u001b[0m │\n",
              "├─────────────────────────────────┼────────────────────────┼───────────────┤\n",
              "│ batch_normalization_1           │ (\u001b[38;5;45mNone\u001b[0m, \u001b[38;5;34m256\u001b[0m)            │         \u001b[38;5;34m1,024\u001b[0m │\n",
              "│ (\u001b[38;5;33mBatchNormalization\u001b[0m)            │                        │               │\n",
              "├─────────────────────────────────┼────────────────────────┼───────────────┤\n",
              "│ dropout_5 (\u001b[38;5;33mDropout\u001b[0m)             │ (\u001b[38;5;45mNone\u001b[0m, \u001b[38;5;34m256\u001b[0m)            │             \u001b[38;5;34m0\u001b[0m │\n",
              "├─────────────────────────────────┼────────────────────────┼───────────────┤\n",
              "│ dense_10 (\u001b[38;5;33mDense\u001b[0m)                │ (\u001b[38;5;45mNone\u001b[0m, \u001b[38;5;34m128\u001b[0m)            │        \u001b[38;5;34m32,896\u001b[0m │\n",
              "├─────────────────────────────────┼────────────────────────┼───────────────┤\n",
              "│ batch_normalization_2           │ (\u001b[38;5;45mNone\u001b[0m, \u001b[38;5;34m128\u001b[0m)            │           \u001b[38;5;34m512\u001b[0m │\n",
              "│ (\u001b[38;5;33mBatchNormalization\u001b[0m)            │                        │               │\n",
              "├─────────────────────────────────┼────────────────────────┼───────────────┤\n",
              "│ dropout_6 (\u001b[38;5;33mDropout\u001b[0m)             │ (\u001b[38;5;45mNone\u001b[0m, \u001b[38;5;34m128\u001b[0m)            │             \u001b[38;5;34m0\u001b[0m │\n",
              "├─────────────────────────────────┼────────────────────────┼───────────────┤\n",
              "│ dense_11 (\u001b[38;5;33mDense\u001b[0m)                │ (\u001b[38;5;45mNone\u001b[0m, \u001b[38;5;34m24\u001b[0m)             │         \u001b[38;5;34m3,096\u001b[0m │\n",
              "└─────────────────────────────────┴────────────────────────┴───────────────┘\n"
            ],
            "text/html": [
              "<pre style=\"white-space:pre;overflow-x:auto;line-height:normal;font-family:Menlo,'DejaVu Sans Mono',consolas,'Courier New',monospace\">┏━━━━━━━━━━━━━━━━━━━━━━━━━━━━━━━━━┳━━━━━━━━━━━━━━━━━━━━━━━━┳━━━━━━━━━━━━━━━┓\n",
              "┃<span style=\"font-weight: bold\"> Layer (type)                    </span>┃<span style=\"font-weight: bold\"> Output Shape           </span>┃<span style=\"font-weight: bold\">       Param # </span>┃\n",
              "┡━━━━━━━━━━━━━━━━━━━━━━━━━━━━━━━━━╇━━━━━━━━━━━━━━━━━━━━━━━━╇━━━━━━━━━━━━━━━┩\n",
              "│ dense_8 (<span style=\"color: #0087ff; text-decoration-color: #0087ff\">Dense</span>)                 │ (<span style=\"color: #00d7ff; text-decoration-color: #00d7ff\">None</span>, <span style=\"color: #00af00; text-decoration-color: #00af00\">512</span>)            │        <span style=\"color: #00af00; text-decoration-color: #00af00\">23,040</span> │\n",
              "├─────────────────────────────────┼────────────────────────┼───────────────┤\n",
              "│ batch_normalization             │ (<span style=\"color: #00d7ff; text-decoration-color: #00d7ff\">None</span>, <span style=\"color: #00af00; text-decoration-color: #00af00\">512</span>)            │         <span style=\"color: #00af00; text-decoration-color: #00af00\">2,048</span> │\n",
              "│ (<span style=\"color: #0087ff; text-decoration-color: #0087ff\">BatchNormalization</span>)            │                        │               │\n",
              "├─────────────────────────────────┼────────────────────────┼───────────────┤\n",
              "│ dropout_4 (<span style=\"color: #0087ff; text-decoration-color: #0087ff\">Dropout</span>)             │ (<span style=\"color: #00d7ff; text-decoration-color: #00d7ff\">None</span>, <span style=\"color: #00af00; text-decoration-color: #00af00\">512</span>)            │             <span style=\"color: #00af00; text-decoration-color: #00af00\">0</span> │\n",
              "├─────────────────────────────────┼────────────────────────┼───────────────┤\n",
              "│ dense_9 (<span style=\"color: #0087ff; text-decoration-color: #0087ff\">Dense</span>)                 │ (<span style=\"color: #00d7ff; text-decoration-color: #00d7ff\">None</span>, <span style=\"color: #00af00; text-decoration-color: #00af00\">256</span>)            │       <span style=\"color: #00af00; text-decoration-color: #00af00\">131,328</span> │\n",
              "├─────────────────────────────────┼────────────────────────┼───────────────┤\n",
              "│ batch_normalization_1           │ (<span style=\"color: #00d7ff; text-decoration-color: #00d7ff\">None</span>, <span style=\"color: #00af00; text-decoration-color: #00af00\">256</span>)            │         <span style=\"color: #00af00; text-decoration-color: #00af00\">1,024</span> │\n",
              "│ (<span style=\"color: #0087ff; text-decoration-color: #0087ff\">BatchNormalization</span>)            │                        │               │\n",
              "├─────────────────────────────────┼────────────────────────┼───────────────┤\n",
              "│ dropout_5 (<span style=\"color: #0087ff; text-decoration-color: #0087ff\">Dropout</span>)             │ (<span style=\"color: #00d7ff; text-decoration-color: #00d7ff\">None</span>, <span style=\"color: #00af00; text-decoration-color: #00af00\">256</span>)            │             <span style=\"color: #00af00; text-decoration-color: #00af00\">0</span> │\n",
              "├─────────────────────────────────┼────────────────────────┼───────────────┤\n",
              "│ dense_10 (<span style=\"color: #0087ff; text-decoration-color: #0087ff\">Dense</span>)                │ (<span style=\"color: #00d7ff; text-decoration-color: #00d7ff\">None</span>, <span style=\"color: #00af00; text-decoration-color: #00af00\">128</span>)            │        <span style=\"color: #00af00; text-decoration-color: #00af00\">32,896</span> │\n",
              "├─────────────────────────────────┼────────────────────────┼───────────────┤\n",
              "│ batch_normalization_2           │ (<span style=\"color: #00d7ff; text-decoration-color: #00d7ff\">None</span>, <span style=\"color: #00af00; text-decoration-color: #00af00\">128</span>)            │           <span style=\"color: #00af00; text-decoration-color: #00af00\">512</span> │\n",
              "│ (<span style=\"color: #0087ff; text-decoration-color: #0087ff\">BatchNormalization</span>)            │                        │               │\n",
              "├─────────────────────────────────┼────────────────────────┼───────────────┤\n",
              "│ dropout_6 (<span style=\"color: #0087ff; text-decoration-color: #0087ff\">Dropout</span>)             │ (<span style=\"color: #00d7ff; text-decoration-color: #00d7ff\">None</span>, <span style=\"color: #00af00; text-decoration-color: #00af00\">128</span>)            │             <span style=\"color: #00af00; text-decoration-color: #00af00\">0</span> │\n",
              "├─────────────────────────────────┼────────────────────────┼───────────────┤\n",
              "│ dense_11 (<span style=\"color: #0087ff; text-decoration-color: #0087ff\">Dense</span>)                │ (<span style=\"color: #00d7ff; text-decoration-color: #00d7ff\">None</span>, <span style=\"color: #00af00; text-decoration-color: #00af00\">24</span>)             │         <span style=\"color: #00af00; text-decoration-color: #00af00\">3,096</span> │\n",
              "└─────────────────────────────────┴────────────────────────┴───────────────┘\n",
              "</pre>\n"
            ]
          },
          "metadata": {}
        },
        {
          "output_type": "display_data",
          "data": {
            "text/plain": [
              "\u001b[1m Total params: \u001b[0m\u001b[38;5;34m193,944\u001b[0m (757.59 KB)\n"
            ],
            "text/html": [
              "<pre style=\"white-space:pre;overflow-x:auto;line-height:normal;font-family:Menlo,'DejaVu Sans Mono',consolas,'Courier New',monospace\"><span style=\"font-weight: bold\"> Total params: </span><span style=\"color: #00af00; text-decoration-color: #00af00\">193,944</span> (757.59 KB)\n",
              "</pre>\n"
            ]
          },
          "metadata": {}
        },
        {
          "output_type": "display_data",
          "data": {
            "text/plain": [
              "\u001b[1m Trainable params: \u001b[0m\u001b[38;5;34m192,152\u001b[0m (750.59 KB)\n"
            ],
            "text/html": [
              "<pre style=\"white-space:pre;overflow-x:auto;line-height:normal;font-family:Menlo,'DejaVu Sans Mono',consolas,'Courier New',monospace\"><span style=\"font-weight: bold\"> Trainable params: </span><span style=\"color: #00af00; text-decoration-color: #00af00\">192,152</span> (750.59 KB)\n",
              "</pre>\n"
            ]
          },
          "metadata": {}
        },
        {
          "output_type": "display_data",
          "data": {
            "text/plain": [
              "\u001b[1m Non-trainable params: \u001b[0m\u001b[38;5;34m1,792\u001b[0m (7.00 KB)\n"
            ],
            "text/html": [
              "<pre style=\"white-space:pre;overflow-x:auto;line-height:normal;font-family:Menlo,'DejaVu Sans Mono',consolas,'Courier New',monospace\"><span style=\"font-weight: bold\"> Non-trainable params: </span><span style=\"color: #00af00; text-decoration-color: #00af00\">1,792</span> (7.00 KB)\n",
              "</pre>\n"
            ]
          },
          "metadata": {}
        }
      ]
    },
    {
      "cell_type": "code",
      "source": [
        "callbacks = [\n",
        "    tf.keras.callbacks.ReduceLROnPlateau(monitor='val_loss', factor=0.5, patience=4, verbose=1),\n",
        "    tf.keras.callbacks.EarlyStopping(monitor='val_loss', patience=8, restore_best_weights=True, verbose=1)\n",
        "]\n",
        "\n",
        "history = model.fit(\n",
        "    X_train, y_train,\n",
        "    validation_data=(X_test, y_test),\n",
        "    epochs=45,             # increased for better convergence\n",
        "    batch_size=256,        # more stable gradient steps\n",
        "    class_weight=class_weights,\n",
        "    callbacks=callbacks,\n",
        "    verbose=2\n",
        ")\n"
      ],
      "metadata": {
        "colab": {
          "base_uri": "https://localhost:8080/"
        },
        "id": "qP7dPIQT_nSv",
        "outputId": "7548faae-6bea-45ef-8f39-aa29dbc4bba8"
      },
      "execution_count": 30,
      "outputs": [
        {
          "output_type": "stream",
          "name": "stdout",
          "text": [
            "Epoch 1/45\n",
            "174/174 - 11s - 61ms/step - accuracy: 0.2635 - loss: 2.6931 - val_accuracy: 0.3019 - val_loss: 2.5264 - learning_rate: 3.0000e-04\n",
            "Epoch 2/45\n",
            "174/174 - 1s - 5ms/step - accuracy: 0.3351 - loss: 2.1553 - val_accuracy: 0.3868 - val_loss: 2.1077 - learning_rate: 3.0000e-04\n",
            "Epoch 3/45\n",
            "174/174 - 1s - 6ms/step - accuracy: 0.3585 - loss: 2.0329 - val_accuracy: 0.4176 - val_loss: 1.9768 - learning_rate: 3.0000e-04\n",
            "Epoch 4/45\n",
            "174/174 - 1s - 4ms/step - accuracy: 0.3754 - loss: 1.8956 - val_accuracy: 0.4359 - val_loss: 1.8728 - learning_rate: 3.0000e-04\n",
            "Epoch 5/45\n",
            "174/174 - 1s - 4ms/step - accuracy: 0.3910 - loss: 1.8348 - val_accuracy: 0.4421 - val_loss: 1.8479 - learning_rate: 3.0000e-04\n",
            "Epoch 6/45\n",
            "174/174 - 1s - 4ms/step - accuracy: 0.4037 - loss: 1.7849 - val_accuracy: 0.4572 - val_loss: 1.7983 - learning_rate: 3.0000e-04\n",
            "Epoch 7/45\n",
            "174/174 - 1s - 4ms/step - accuracy: 0.4119 - loss: 1.7196 - val_accuracy: 0.4689 - val_loss: 1.7360 - learning_rate: 3.0000e-04\n",
            "Epoch 8/45\n",
            "174/174 - 1s - 7ms/step - accuracy: 0.4252 - loss: 1.6571 - val_accuracy: 0.4687 - val_loss: 1.7125 - learning_rate: 3.0000e-04\n",
            "Epoch 9/45\n",
            "174/174 - 1s - 4ms/step - accuracy: 0.4349 - loss: 1.6223 - val_accuracy: 0.4811 - val_loss: 1.6867 - learning_rate: 3.0000e-04\n",
            "Epoch 10/45\n",
            "174/174 - 1s - 4ms/step - accuracy: 0.4432 - loss: 1.6153 - val_accuracy: 0.4920 - val_loss: 1.6526 - learning_rate: 3.0000e-04\n",
            "Epoch 11/45\n",
            "174/174 - 1s - 4ms/step - accuracy: 0.4497 - loss: 1.5446 - val_accuracy: 0.5070 - val_loss: 1.6093 - learning_rate: 3.0000e-04\n",
            "Epoch 12/45\n",
            "174/174 - 1s - 4ms/step - accuracy: 0.4569 - loss: 1.5366 - val_accuracy: 0.5123 - val_loss: 1.6017 - learning_rate: 3.0000e-04\n",
            "Epoch 13/45\n",
            "174/174 - 1s - 4ms/step - accuracy: 0.4653 - loss: 1.4949 - val_accuracy: 0.5330 - val_loss: 1.5519 - learning_rate: 3.0000e-04\n",
            "Epoch 14/45\n",
            "174/174 - 1s - 4ms/step - accuracy: 0.4772 - loss: 1.4684 - val_accuracy: 0.5326 - val_loss: 1.5350 - learning_rate: 3.0000e-04\n",
            "Epoch 15/45\n",
            "174/174 - 1s - 4ms/step - accuracy: 0.4838 - loss: 1.4337 - val_accuracy: 0.5404 - val_loss: 1.5153 - learning_rate: 3.0000e-04\n",
            "Epoch 16/45\n",
            "174/174 - 1s - 4ms/step - accuracy: 0.4906 - loss: 1.4161 - val_accuracy: 0.5488 - val_loss: 1.4852 - learning_rate: 3.0000e-04\n",
            "Epoch 17/45\n",
            "174/174 - 1s - 4ms/step - accuracy: 0.5032 - loss: 1.3763 - val_accuracy: 0.5533 - val_loss: 1.4650 - learning_rate: 3.0000e-04\n",
            "Epoch 18/45\n",
            "174/174 - 1s - 4ms/step - accuracy: 0.5031 - loss: 1.3892 - val_accuracy: 0.5413 - val_loss: 1.4942 - learning_rate: 3.0000e-04\n",
            "Epoch 19/45\n",
            "174/174 - 1s - 5ms/step - accuracy: 0.5017 - loss: 1.3734 - val_accuracy: 0.5542 - val_loss: 1.4461 - learning_rate: 3.0000e-04\n",
            "Epoch 20/45\n",
            "174/174 - 1s - 5ms/step - accuracy: 0.5110 - loss: 1.3643 - val_accuracy: 0.5541 - val_loss: 1.4434 - learning_rate: 3.0000e-04\n",
            "Epoch 21/45\n",
            "174/174 - 1s - 4ms/step - accuracy: 0.5115 - loss: 1.3463 - val_accuracy: 0.5562 - val_loss: 1.4420 - learning_rate: 3.0000e-04\n",
            "Epoch 22/45\n",
            "174/174 - 1s - 4ms/step - accuracy: 0.5189 - loss: 1.3138 - val_accuracy: 0.5663 - val_loss: 1.4141 - learning_rate: 3.0000e-04\n",
            "Epoch 23/45\n",
            "174/174 - 1s - 4ms/step - accuracy: 0.5232 - loss: 1.3148 - val_accuracy: 0.5648 - val_loss: 1.4015 - learning_rate: 3.0000e-04\n",
            "Epoch 24/45\n",
            "174/174 - 1s - 4ms/step - accuracy: 0.5273 - loss: 1.2914 - val_accuracy: 0.5724 - val_loss: 1.3761 - learning_rate: 3.0000e-04\n",
            "Epoch 25/45\n",
            "174/174 - 1s - 4ms/step - accuracy: 0.5337 - loss: 1.2765 - val_accuracy: 0.5804 - val_loss: 1.3640 - learning_rate: 3.0000e-04\n",
            "Epoch 26/45\n",
            "174/174 - 1s - 4ms/step - accuracy: 0.5392 - loss: 1.2511 - val_accuracy: 0.5741 - val_loss: 1.3686 - learning_rate: 3.0000e-04\n",
            "Epoch 27/45\n",
            "174/174 - 1s - 4ms/step - accuracy: 0.5368 - loss: 1.2595 - val_accuracy: 0.5810 - val_loss: 1.3526 - learning_rate: 3.0000e-04\n",
            "Epoch 28/45\n",
            "174/174 - 1s - 4ms/step - accuracy: 0.5456 - loss: 1.2313 - val_accuracy: 0.5912 - val_loss: 1.3318 - learning_rate: 3.0000e-04\n",
            "Epoch 29/45\n",
            "174/174 - 1s - 4ms/step - accuracy: 0.5546 - loss: 1.2150 - val_accuracy: 0.5901 - val_loss: 1.3221 - learning_rate: 3.0000e-04\n",
            "Epoch 30/45\n",
            "174/174 - 1s - 4ms/step - accuracy: 0.5560 - loss: 1.2072 - val_accuracy: 0.5942 - val_loss: 1.3062 - learning_rate: 3.0000e-04\n",
            "Epoch 31/45\n",
            "174/174 - 1s - 4ms/step - accuracy: 0.5589 - loss: 1.2015 - val_accuracy: 0.5972 - val_loss: 1.2979 - learning_rate: 3.0000e-04\n",
            "Epoch 32/45\n",
            "174/174 - 1s - 4ms/step - accuracy: 0.5617 - loss: 1.1897 - val_accuracy: 0.5935 - val_loss: 1.3006 - learning_rate: 3.0000e-04\n",
            "Epoch 33/45\n",
            "174/174 - 1s - 4ms/step - accuracy: 0.5616 - loss: 1.1899 - val_accuracy: 0.5983 - val_loss: 1.2880 - learning_rate: 3.0000e-04\n",
            "Epoch 34/45\n",
            "174/174 - 1s - 4ms/step - accuracy: 0.5664 - loss: 1.1689 - val_accuracy: 0.5983 - val_loss: 1.2797 - learning_rate: 3.0000e-04\n",
            "Epoch 35/45\n",
            "174/174 - 1s - 4ms/step - accuracy: 0.5697 - loss: 1.1604 - val_accuracy: 0.6015 - val_loss: 1.2737 - learning_rate: 3.0000e-04\n",
            "Epoch 36/45\n",
            "174/174 - 1s - 4ms/step - accuracy: 0.5735 - loss: 1.1532 - val_accuracy: 0.6019 - val_loss: 1.2674 - learning_rate: 3.0000e-04\n",
            "Epoch 37/45\n",
            "174/174 - 1s - 6ms/step - accuracy: 0.5734 - loss: 1.1480 - val_accuracy: 0.6057 - val_loss: 1.2560 - learning_rate: 3.0000e-04\n",
            "Epoch 38/45\n",
            "174/174 - 1s - 7ms/step - accuracy: 0.5797 - loss: 1.1316 - val_accuracy: 0.6120 - val_loss: 1.2430 - learning_rate: 3.0000e-04\n",
            "Epoch 39/45\n",
            "174/174 - 1s - 4ms/step - accuracy: 0.5840 - loss: 1.1231 - val_accuracy: 0.6124 - val_loss: 1.2402 - learning_rate: 3.0000e-04\n",
            "Epoch 40/45\n",
            "174/174 - 1s - 4ms/step - accuracy: 0.5824 - loss: 1.1156 - val_accuracy: 0.6064 - val_loss: 1.2466 - learning_rate: 3.0000e-04\n",
            "Epoch 41/45\n",
            "174/174 - 1s - 7ms/step - accuracy: 0.5804 - loss: 1.1273 - val_accuracy: 0.6098 - val_loss: 1.2417 - learning_rate: 3.0000e-04\n",
            "Epoch 42/45\n",
            "174/174 - 1s - 4ms/step - accuracy: 0.5858 - loss: 1.1092 - val_accuracy: 0.6128 - val_loss: 1.2256 - learning_rate: 3.0000e-04\n",
            "Epoch 43/45\n",
            "174/174 - 1s - 6ms/step - accuracy: 0.5862 - loss: 1.1112 - val_accuracy: 0.6161 - val_loss: 1.2149 - learning_rate: 3.0000e-04\n",
            "Epoch 44/45\n",
            "174/174 - 1s - 5ms/step - accuracy: 0.5918 - loss: 1.0919 - val_accuracy: 0.6203 - val_loss: 1.2085 - learning_rate: 3.0000e-04\n",
            "Epoch 45/45\n",
            "174/174 - 1s - 4ms/step - accuracy: 0.5948 - loss: 1.0802 - val_accuracy: 0.6201 - val_loss: 1.2076 - learning_rate: 3.0000e-04\n",
            "Restoring model weights from the end of the best epoch: 45.\n"
          ]
        }
      ]
    },
    {
      "cell_type": "code",
      "source": [
        "from sklearn.metrics import classification_report, confusion_matrix\n",
        "import seaborn as sns\n",
        "import matplotlib.pyplot as plt\n",
        "\n",
        "y_pred_proba = model.predict(X_test)\n",
        "y_pred = np.argmax(y_pred_proba, axis=1)\n",
        "\n",
        "print(\"Classification Report:\")\n",
        "print(classification_report(y_test, y_pred, target_names=le.classes_))\n",
        "\n",
        "cm = confusion_matrix(y_test, y_pred)\n",
        "plt.figure(figsize=(12, 10))\n",
        "sns.heatmap(cm, cmap='Blues', annot=False)\n",
        "plt.title(\"Confusion Matrix (Counts)\")\n",
        "plt.xlabel(\"Predicted\")\n",
        "plt.ylabel(\"True\")\n",
        "plt.show()\n"
      ],
      "metadata": {
        "colab": {
          "base_uri": "https://localhost:8080/",
          "height": 1000
        },
        "id": "F1l-IG4p_rQH",
        "outputId": "2e245d7c-7a7a-4034-ee05-8f9e70597292"
      },
      "execution_count": 31,
      "outputs": [
        {
          "output_type": "stream",
          "name": "stdout",
          "text": [
            "\u001b[1m348/348\u001b[0m \u001b[32m━━━━━━━━━━━━━━━━━━━━\u001b[0m\u001b[37m\u001b[0m \u001b[1m2s\u001b[0m 4ms/step\n",
            "Classification Report:\n",
            "                                   precision    recall  f1-score   support\n",
            "\n",
            "                             Chat       0.61      0.61      0.61       600\n",
            "                            Cloud       0.61      0.43      0.51       600\n",
            "                    Collaborative       0.39      0.16      0.23       600\n",
            "                     DataTransfer       0.08      0.50      0.14         2\n",
            "                         Database       0.83      0.80      0.81       163\n",
            "Download-FileTransfer-FileSharing       0.92      0.94      0.93       600\n",
            "                            Email       0.50      0.73      0.59       600\n",
            "                             Game       0.57      0.58      0.58       571\n",
            "                            Media       0.61      0.44      0.51       600\n",
            "                           Mining       0.90      1.00      0.95        36\n",
            "                            Music       0.43      0.56      0.49       600\n",
            "                          Network       0.45      0.42      0.43       600\n",
            "                              RPC       0.94      0.99      0.96       441\n",
            "                     RemoteAccess       0.92      0.92      0.92       600\n",
            "                         Shopping       0.10      0.64      0.17        47\n",
            "                    SocialNetwork       0.60      0.59      0.60       600\n",
            "                   SoftwareUpdate       0.60      0.60      0.60       600\n",
            "                        Streaming       0.22      0.82      0.35       143\n",
            "                           System       0.96      0.97      0.96       600\n",
            "                      Unspecified       0.88      0.84      0.86       600\n",
            "                              VPN       0.68      0.87      0.76       107\n",
            "                            Video       0.47      0.59      0.52       600\n",
            "                             VoIP       0.91      0.61      0.73       600\n",
            "                              Web       0.26      0.09      0.13       600\n",
            "\n",
            "                         accuracy                           0.62     11110\n",
            "                        macro avg       0.60      0.65      0.60     11110\n",
            "                     weighted avg       0.64      0.62      0.62     11110\n",
            "\n"
          ]
        },
        {
          "output_type": "display_data",
          "data": {
            "text/plain": [
              "<Figure size 1200x1000 with 2 Axes>"
            ],
            "image/png": "[encoded data removed]"
          },
          "metadata": {}
        }
      ]
    },
    {
      "cell_type": "code",
      "source": [
        "plt.figure(figsize=(8, 4))\n",
        "plt.plot(history.history['accuracy'], label='Train Acc')\n",
        "plt.plot(history.history['val_accuracy'], label='Val Acc')\n",
        "plt.title('Model Accuracy')\n",
        "plt.xlabel('Epoch')\n",
        "plt.ylabel('Accuracy')\n",
        "plt.legend()\n",
        "plt.show()\n",
        "\n",
        "plt.figure(figsize=(8, 4))\n",
        "plt.plot(history.history['loss'], label='Train Loss')\n",
        "plt.plot(history.history['val_loss'], label='Val Loss')\n",
        "plt.title('Model Loss')\n",
        "plt.xlabel('Epoch')\n",
        "plt.ylabel('Loss')\n",
        "plt.legend()\n",
        "plt.show()\n"
      ],
      "metadata": {
        "colab": {
          "base_uri": "https://localhost:8080/",
          "height": 803
        },
        "id": "XdndtVf6ACX2",
        "outputId": "301b5f4b-ed01-4e8f-babe-9de93fe5357f"
      },
      "execution_count": 32,
      "outputs": [
        {
          "output_type": "display_data",
          "data": {
            "text/plain": [
              "<Figure size 800x400 with 1 Axes>"
            ],
            "image/png": "[encoded data removed]"
          },
          "metadata": {}
        },
        {
          "output_type": "display_data",
          "data": {
            "text/plain": [
              "<Figure size 800x400 with 1 Axes>"
            ],
            "image/png": "[encoded data removed]"
          },
          "metadata": {}
        }
      ]
    },
    {
      "cell_type": "code",
      "source": [
        "model.save(\"mlp_multiclass_model.keras\")\n",
        "import joblib\n",
        "joblib.dump(scaler, \"scaler.pkl\")\n",
        "joblib.dump(le, \"label_encoder.pkl\")\n",
        "print(\"Model, scaler, and encoder saved successfully!\")\n"
      ],
      "metadata": {
        "colab": {
          "base_uri": "https://localhost:8080/"
        },
        "id": "kDmrD-5qAI-N",
        "outputId": "bedca68b-02b7-433e-82b0-98e58c0aa0d5"
      },
      "execution_count": 33,
      "outputs": [
        {
          "output_type": "stream",
          "name": "stdout",
          "text": [
            "Model, scaler, and encoder saved successfully!\n"
          ]
        }
      ]
    },
    {
      "cell_type": "markdown",
      "source": [
        "The MLP model achieved around 62% validation accuracy across 24 traffic categories using flow-level features.\n",
        "With proper normalization, class balancing, and dropout regularization, the network showed smooth convergence without overfitting.\n",
        "This demonstrates that a fully connected MLP can effectively capture static statistical characteristics of encrypted network flows — though sequential models (like LSTM) can further enhance accuracy by learning temporal dependencies."
      ],
      "metadata": {
        "id": "TYe7hB5zH8IB"
      }
    }
  ]
}